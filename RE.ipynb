{
 "cells": [
  {
   "cell_type": "code",
   "execution_count": 4,
   "metadata": {},
   "outputs": [
    {
     "name": "stdout",
     "output_type": "stream",
     "text": [
      "YES! We have a match!\n"
     ]
    }
   ],
   "source": [
    "import re\n",
    "txt = \"The rain in spain\"\n",
    "x = re.search(\"^The.*spain$\",txt)\n",
    "if x:\n",
    "    print(\"YES! We have a match!\")\n",
    "else:\n",
    "    print(\"no match\")"
   ]
  },
  {
   "cell_type": "code",
   "execution_count": 5,
   "metadata": {},
   "outputs": [
    {
     "name": "stdout",
     "output_type": "stream",
     "text": [
      "[]\n"
     ]
    }
   ],
   "source": [
    "import re\n",
    "txt = \"The rain in spain\"\n",
    "x = re.findall(\"Portugal\",txt)\n",
    "print(x)\n",
    "\n"
   ]
  },
  {
   "cell_type": "code",
   "execution_count": 8,
   "metadata": {},
   "outputs": [
    {
     "name": "stdout",
     "output_type": "stream",
     "text": [
      "Occurrences of 'cat' or 'dog': ['cat', 'dog', 'cat', 'Cat', 'dog']\n",
      "3-letter words starting with 'c': []\n"
     ]
    }
   ],
   "source": [
    "import re\n",
    "text = \"The cat sat on the mat. The dog barked at the cat. Cats and dogs live in harmony.\"\n",
    "\n",
    "matches = re.findall(r\"(cat|dog)\", text, re.IGNORECASE)\n",
    "print(\"Occurrences of 'cat' or 'dog':\", matches)\n",
    "\n",
    "\n",
    "three_letter_words = re.findall(r\"\\b\\wc\\w\\b\", text)\n",
    "print(\"3-letter words starting with 'c':\", three_letter_words)"
   ]
  },
  {
   "cell_type": "code",
   "execution_count": 9,
   "metadata": {},
   "outputs": [
    {
     "name": "stdout",
     "output_type": "stream",
     "text": [
      "the first white-space character is located in position: 3\n"
     ]
    }
   ],
   "source": [
    "import re\n",
    "text = \"The rain in Spain\"\n",
    "\n",
    "x = re.search(\"\\s\", text)\n",
    "print(\"the first white-space character is located in position:\",x.start())\n"
   ]
  },
  {
   "cell_type": "code",
   "execution_count": 11,
   "metadata": {},
   "outputs": [
    {
     "name": "stdout",
     "output_type": "stream",
     "text": [
      "the first white-space character is located in position: 3\n",
      "['The', 'cat', 'sat', 'on', 'the', 'mat.', 'The', 'dog', 'barked', 'at', 'the', 'cat.', 'Cats', 'and', 'dogs', 'live', 'in', 'harmony.']\n"
     ]
    }
   ],
   "source": [
    "import re\n",
    "text = \"The cat sat on the mat. The dog barked at the cat. Cats and dogs live in harmony.\"\n",
    "x = re.search(\"\\s\", text)\n",
    "print(\"the first white-space character is located in position:\",x.start())\n",
    "x = re.split(\"\\s\", text)\n",
    "print(x)\n"
   ]
  },
  {
   "cell_type": "code",
   "execution_count": 16,
   "metadata": {},
   "outputs": [
    {
     "ename": "AttributeError",
     "evalue": "'NoneType' object has no attribute 'span'",
     "output_type": "error",
     "traceback": [
      "\u001b[1;31m---------------------------------------------------------------------------\u001b[0m",
      "\u001b[1;31mAttributeError\u001b[0m                            Traceback (most recent call last)",
      "Cell \u001b[1;32mIn[16], line 4\u001b[0m\n\u001b[0;32m      2\u001b[0m text \u001b[38;5;241m=\u001b[39m \u001b[38;5;124m\"\u001b[39m\u001b[38;5;124mContact us at support@example.com, sales@company.org, or admin@website.net. For more information, visit www.example.com.\u001b[39m\u001b[38;5;124m\"\u001b[39m\n\u001b[0;32m      3\u001b[0m x \u001b[38;5;241m=\u001b[39m re\u001b[38;5;241m.\u001b[39msearch(\u001b[38;5;124mr\u001b[39m\u001b[38;5;124m\"\u001b[39m\u001b[38;5;124m\\\u001b[39m\u001b[38;5;124mbS\u001b[39m\u001b[38;5;124m\\\u001b[39m\u001b[38;5;124mw+\u001b[39m\u001b[38;5;124m\"\u001b[39m,text)\n\u001b[1;32m----> 4\u001b[0m \u001b[38;5;28mprint\u001b[39m(\u001b[43mx\u001b[49m\u001b[38;5;241;43m.\u001b[39;49m\u001b[43mspan\u001b[49m())\n",
      "\u001b[1;31mAttributeError\u001b[0m: 'NoneType' object has no attribute 'span'"
     ]
    }
   ],
   "source": [
    "import re\n",
    "text = \"Contact us at support@example.com, sales@company.org, or admin@website.net. For more information, visit www.example.com.\"\n",
    "x = re.search(r\"\\bS\\w+\",text)\n",
    "print(x.span())\n"
   ]
  }
 ],
 "metadata": {
  "kernelspec": {
   "display_name": "Python 3",
   "language": "python",
   "name": "python3"
  },
  "language_info": {
   "codemirror_mode": {
    "name": "ipython",
    "version": 3
   },
   "file_extension": ".py",
   "mimetype": "text/x-python",
   "name": "python",
   "nbconvert_exporter": "python",
   "pygments_lexer": "ipython3",
   "version": "3.11.9"
  }
 },
 "nbformat": 4,
 "nbformat_minor": 2
}
